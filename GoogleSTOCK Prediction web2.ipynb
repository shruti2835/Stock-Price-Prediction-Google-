{
 "cells": [
  {
   "cell_type": "code",
   "execution_count": 1,
   "metadata": {},
   "outputs": [],
   "source": [
    "import pandas as pd\n",
    "import numpy as np\n",
    "import matplotlib.pyplot as plt\n",
    "import math\n",
    "import warnings\n",
    "warnings.filterwarnings(\"ignore\")"
   ]
  },
  {
   "cell_type": "code",
   "execution_count": 2,
   "metadata": {},
   "outputs": [
    {
     "data": {
      "text/html": [
       "<div>\n",
       "<style scoped>\n",
       "    .dataframe tbody tr th:only-of-type {\n",
       "        vertical-align: middle;\n",
       "    }\n",
       "\n",
       "    .dataframe tbody tr th {\n",
       "        vertical-align: top;\n",
       "    }\n",
       "\n",
       "    .dataframe thead th {\n",
       "        text-align: right;\n",
       "    }\n",
       "</style>\n",
       "<table border=\"1\" class=\"dataframe\">\n",
       "  <thead>\n",
       "    <tr style=\"text-align: right;\">\n",
       "      <th></th>\n",
       "      <th>High</th>\n",
       "      <th>Low</th>\n",
       "      <th>Open</th>\n",
       "      <th>Close</th>\n",
       "      <th>Volume</th>\n",
       "      <th>Adj Close</th>\n",
       "    </tr>\n",
       "    <tr>\n",
       "      <th>Date</th>\n",
       "      <th></th>\n",
       "      <th></th>\n",
       "      <th></th>\n",
       "      <th></th>\n",
       "      <th></th>\n",
       "      <th></th>\n",
       "    </tr>\n",
       "  </thead>\n",
       "  <tbody>\n",
       "    <tr>\n",
       "      <th>2013-01-02</th>\n",
       "      <td>362.142609</td>\n",
       "      <td>356.937103</td>\n",
       "      <td>358.366760</td>\n",
       "      <td>360.274597</td>\n",
       "      <td>5101651.0</td>\n",
       "      <td>360.274597</td>\n",
       "    </tr>\n",
       "    <tr>\n",
       "      <th>2013-01-03</th>\n",
       "      <td>364.598389</td>\n",
       "      <td>359.014313</td>\n",
       "      <td>361.111481</td>\n",
       "      <td>360.483826</td>\n",
       "      <td>4653778.0</td>\n",
       "      <td>360.483826</td>\n",
       "    </tr>\n",
       "    <tr>\n",
       "      <th>2013-01-04</th>\n",
       "      <td>369.350586</td>\n",
       "      <td>362.481323</td>\n",
       "      <td>363.308228</td>\n",
       "      <td>367.607117</td>\n",
       "      <td>5547717.0</td>\n",
       "      <td>367.607117</td>\n",
       "    </tr>\n",
       "    <tr>\n",
       "      <th>2013-01-07</th>\n",
       "      <td>368.309479</td>\n",
       "      <td>363.925903</td>\n",
       "      <td>366.351837</td>\n",
       "      <td>366.003143</td>\n",
       "      <td>3323812.0</td>\n",
       "      <td>366.003143</td>\n",
       "    </tr>\n",
       "    <tr>\n",
       "      <th>2013-01-08</th>\n",
       "      <td>366.775238</td>\n",
       "      <td>360.862396</td>\n",
       "      <td>366.396667</td>\n",
       "      <td>365.280823</td>\n",
       "      <td>3364765.0</td>\n",
       "      <td>365.280823</td>\n",
       "    </tr>\n",
       "    <tr>\n",
       "      <th>...</th>\n",
       "      <td>...</td>\n",
       "      <td>...</td>\n",
       "      <td>...</td>\n",
       "      <td>...</td>\n",
       "      <td>...</td>\n",
       "      <td>...</td>\n",
       "    </tr>\n",
       "    <tr>\n",
       "      <th>2018-04-30</th>\n",
       "      <td>1037.000000</td>\n",
       "      <td>1016.849976</td>\n",
       "      <td>1030.010010</td>\n",
       "      <td>1017.330017</td>\n",
       "      <td>1671300.0</td>\n",
       "      <td>1017.330017</td>\n",
       "    </tr>\n",
       "    <tr>\n",
       "      <th>2018-05-01</th>\n",
       "      <td>1038.469971</td>\n",
       "      <td>1008.210022</td>\n",
       "      <td>1013.659973</td>\n",
       "      <td>1037.310059</td>\n",
       "      <td>1427900.0</td>\n",
       "      <td>1037.310059</td>\n",
       "    </tr>\n",
       "    <tr>\n",
       "      <th>2018-05-02</th>\n",
       "      <td>1040.389038</td>\n",
       "      <td>1022.869995</td>\n",
       "      <td>1028.099976</td>\n",
       "      <td>1024.380005</td>\n",
       "      <td>1603100.0</td>\n",
       "      <td>1024.380005</td>\n",
       "    </tr>\n",
       "    <tr>\n",
       "      <th>2018-05-03</th>\n",
       "      <td>1029.675049</td>\n",
       "      <td>1006.289978</td>\n",
       "      <td>1019.000000</td>\n",
       "      <td>1023.719971</td>\n",
       "      <td>1815100.0</td>\n",
       "      <td>1023.719971</td>\n",
       "    </tr>\n",
       "    <tr>\n",
       "      <th>2018-05-04</th>\n",
       "      <td>1048.510010</td>\n",
       "      <td>1016.900024</td>\n",
       "      <td>1016.900024</td>\n",
       "      <td>1048.209961</td>\n",
       "      <td>1938700.0</td>\n",
       "      <td>1048.209961</td>\n",
       "    </tr>\n",
       "  </tbody>\n",
       "</table>\n",
       "<p>1345 rows × 6 columns</p>\n",
       "</div>"
      ],
      "text/plain": [
       "                   High          Low         Open        Close     Volume  \\\n",
       "Date                                                                        \n",
       "2013-01-02   362.142609   356.937103   358.366760   360.274597  5101651.0   \n",
       "2013-01-03   364.598389   359.014313   361.111481   360.483826  4653778.0   \n",
       "2013-01-04   369.350586   362.481323   363.308228   367.607117  5547717.0   \n",
       "2013-01-07   368.309479   363.925903   366.351837   366.003143  3323812.0   \n",
       "2013-01-08   366.775238   360.862396   366.396667   365.280823  3364765.0   \n",
       "...                 ...          ...          ...          ...        ...   \n",
       "2018-04-30  1037.000000  1016.849976  1030.010010  1017.330017  1671300.0   \n",
       "2018-05-01  1038.469971  1008.210022  1013.659973  1037.310059  1427900.0   \n",
       "2018-05-02  1040.389038  1022.869995  1028.099976  1024.380005  1603100.0   \n",
       "2018-05-03  1029.675049  1006.289978  1019.000000  1023.719971  1815100.0   \n",
       "2018-05-04  1048.510010  1016.900024  1016.900024  1048.209961  1938700.0   \n",
       "\n",
       "              Adj Close  \n",
       "Date                     \n",
       "2013-01-02   360.274597  \n",
       "2013-01-03   360.483826  \n",
       "2013-01-04   367.607117  \n",
       "2013-01-07   366.003143  \n",
       "2013-01-08   365.280823  \n",
       "...                 ...  \n",
       "2018-04-30  1017.330017  \n",
       "2018-05-01  1037.310059  \n",
       "2018-05-02  1024.380005  \n",
       "2018-05-03  1023.719971  \n",
       "2018-05-04  1048.209961  \n",
       "\n",
       "[1345 rows x 6 columns]"
      ]
     },
     "execution_count": 2,
     "metadata": {},
     "output_type": "execute_result"
    }
   ],
   "source": [
    "import pandas_datareader as web\n",
    "df=web.DataReader('GOOG', data_source='yahoo', start='2013-01-01', end='2018-05-04')\n",
    "df"
   ]
  },
  {
   "cell_type": "code",
   "execution_count": 3,
   "metadata": {},
   "outputs": [
    {
     "data": {
      "text/plain": [
       "(1345, 6)"
      ]
     },
     "execution_count": 3,
     "metadata": {},
     "output_type": "execute_result"
    }
   ],
   "source": [
    "df.shape"
   ]
  },
  {
   "cell_type": "code",
   "execution_count": 4,
   "metadata": {},
   "outputs": [
    {
     "name": "stdout",
     "output_type": "stream",
     "text": [
      "<class 'pandas.core.frame.DataFrame'>\n",
      "DatetimeIndex: 1345 entries, 2013-01-02 to 2018-05-04\n",
      "Data columns (total 6 columns):\n",
      " #   Column     Non-Null Count  Dtype  \n",
      "---  ------     --------------  -----  \n",
      " 0   High       1345 non-null   float64\n",
      " 1   Low        1345 non-null   float64\n",
      " 2   Open       1345 non-null   float64\n",
      " 3   Close      1345 non-null   float64\n",
      " 4   Volume     1345 non-null   float64\n",
      " 5   Adj Close  1345 non-null   float64\n",
      "dtypes: float64(6)\n",
      "memory usage: 73.6 KB\n"
     ]
    }
   ],
   "source": [
    "df.info()"
   ]
  },
  {
   "cell_type": "code",
   "execution_count": 5,
   "metadata": {},
   "outputs": [
    {
     "data": {
      "image/png": "[encoded data removed]",
      "text/plain": [
       "<Figure size 1080x720 with 1 Axes>"
      ]
     },
     "metadata": {
      "needs_background": "light"
     },
     "output_type": "display_data"
    }
   ],
   "source": [
    "plt.figure(figsize=(15,10))\n",
    "plt.title(\"Closing Price History of Google Stock\")\n",
    "plt.plot(df['Close'],color='purple')\n",
    "plt.xlabel(\"Year\", fontsize=18)\n",
    "plt.ylabel(\"Close Price in USD($)\", fontsize=18)\n",
    "plt.show()"
   ]
  },
  {
   "cell_type": "code",
   "execution_count": 6,
   "metadata": {},
   "outputs": [
    {
     "data": {
      "text/plain": [
       "1076"
      ]
     },
     "execution_count": 6,
     "metadata": {},
     "output_type": "execute_result"
    }
   ],
   "source": [
    "df_close= df.filter(['Close'])\n",
    "ds= df_close.values\n",
    "training_data= math.ceil (len(ds) * .8) #computing the no of rows we are using 80% and then rounding of the values \n",
    "training_data"
   ]
  },
  {
   "cell_type": "code",
   "execution_count": 7,
   "metadata": {},
   "outputs": [
    {
     "data": {
      "text/plain": [
       "array([[ 360.27459717],\n",
       "       [ 360.48382568],\n",
       "       [ 367.6071167 ],\n",
       "       ...,\n",
       "       [1024.38000488],\n",
       "       [1023.7199707 ],\n",
       "       [1048.20996094]])"
      ]
     },
     "execution_count": 7,
     "metadata": {},
     "output_type": "execute_result"
    }
   ],
   "source": [
    "ds"
   ]
  },
  {
   "cell_type": "code",
   "execution_count": 8,
   "metadata": {},
   "outputs": [
    {
     "data": {
      "text/plain": [
       "array([[0.0122947 ],\n",
       "       [0.01254809],\n",
       "       [0.02117488],\n",
       "       ...,\n",
       "       [0.81657165],\n",
       "       [0.81577231],\n",
       "       [0.84543136]])"
      ]
     },
     "execution_count": 8,
     "metadata": {},
     "output_type": "execute_result"
    }
   ],
   "source": [
    "from sklearn.preprocessing import MinMaxScaler \n",
    "scaler = MinMaxScaler(feature_range=(0,1))\n",
    "scale_data = scaler.fit_transform(ds)\n",
    "scale_data"
   ]
  },
  {
   "cell_type": "code",
   "execution_count": 9,
   "metadata": {},
   "outputs": [
    {
     "name": "stdout",
     "output_type": "stream",
     "text": [
      "[array([0.0122947 , 0.01254809, 0.02117488, 0.01923236, 0.01835758,\n",
      "       0.02126536, 0.02329237, 0.02239349, 0.0122947 , 0.01330822,\n",
      "       0.00743232, 0.00509766, 0.00098939, 0.        , 0.02330445,\n",
      "       0.03097205, 0.03064626, 0.02887264, 0.03065232, 0.03074279,\n",
      "       0.03186487, 0.04387605, 0.03387376, 0.03792778, 0.04060028,\n",
      "       0.04288064, 0.04977003, 0.04799035, 0.04695273, 0.04825579,\n",
      "       0.05124805, 0.05430662, 0.06272833, 0.05404721, 0.05589925,\n",
      "       0.05842096, 0.0530277 , 0.05264159, 0.05846317, 0.05931983,\n",
      "       0.06233017, 0.07156627, 0.08188223, 0.07752659, 0.07826259,\n",
      "       0.07761107, 0.07960186, 0.07525225, 0.07386474, 0.0715904 ,\n",
      "       0.06722271, 0.06329539, 0.06542496, 0.06747004, 0.06538874,\n",
      "       0.06481566, 0.06441144, 0.06608856, 0.0602006 , 0.05509089])]\n",
      "[0.05931381054994611]\n",
      "\n",
      "[array([0.0122947 , 0.01254809, 0.02117488, 0.01923236, 0.01835758,\n",
      "       0.02126536, 0.02329237, 0.02239349, 0.0122947 , 0.01330822,\n",
      "       0.00743232, 0.00509766, 0.00098939, 0.        , 0.02330445,\n",
      "       0.03097205, 0.03064626, 0.02887264, 0.03065232, 0.03074279,\n",
      "       0.03186487, 0.04387605, 0.03387376, 0.03792778, 0.04060028,\n",
      "       0.04288064, 0.04977003, 0.04799035, 0.04695273, 0.04825579,\n",
      "       0.05124805, 0.05430662, 0.06272833, 0.05404721, 0.05589925,\n",
      "       0.05842096, 0.0530277 , 0.05264159, 0.05846317, 0.05931983,\n",
      "       0.06233017, 0.07156627, 0.08188223, 0.07752659, 0.07826259,\n",
      "       0.07761107, 0.07960186, 0.07525225, 0.07386474, 0.0715904 ,\n",
      "       0.06722271, 0.06329539, 0.06542496, 0.06747004, 0.06538874,\n",
      "       0.06481566, 0.06441144, 0.06608856, 0.0602006 , 0.05509089]), array([0.01254809, 0.02117488, 0.01923236, 0.01835758, 0.02126536,\n",
      "       0.02329237, 0.02239349, 0.0122947 , 0.01330822, 0.00743232,\n",
      "       0.00509766, 0.00098939, 0.        , 0.02330445, 0.03097205,\n",
      "       0.03064626, 0.02887264, 0.03065232, 0.03074279, 0.03186487,\n",
      "       0.04387605, 0.03387376, 0.03792778, 0.04060028, 0.04288064,\n",
      "       0.04977003, 0.04799035, 0.04695273, 0.04825579, 0.05124805,\n",
      "       0.05430662, 0.06272833, 0.05404721, 0.05589925, 0.05842096,\n",
      "       0.0530277 , 0.05264159, 0.05846317, 0.05931983, 0.06233017,\n",
      "       0.07156627, 0.08188223, 0.07752659, 0.07826259, 0.07761107,\n",
      "       0.07960186, 0.07525225, 0.07386474, 0.0715904 , 0.06722271,\n",
      "       0.06329539, 0.06542496, 0.06747004, 0.06538874, 0.06481566,\n",
      "       0.06441144, 0.06608856, 0.0602006 , 0.05509089, 0.05931381])]\n",
      "[0.05931381054994611, 0.0664625797918883]\n",
      "\n"
     ]
    }
   ],
   "source": [
    "data_train=scale_data[0:training_data, :]\n",
    "x_train= []\n",
    "y_train= []\n",
    "\n",
    "for i in range(60, len(data_train)):\n",
    "    x_train.append(data_train[i-60:i, 0])\n",
    "    y_train.append(data_train[i, 0])\n",
    "    if i<=61:\n",
    "        print(x_train)\n",
    "        print(y_train)\n",
    "        print()"
   ]
  },
  {
   "cell_type": "code",
   "execution_count": 10,
   "metadata": {},
   "outputs": [],
   "source": [
    "x_train, y_train= np.array(x_train), np.array(y_train)"
   ]
  },
  {
   "cell_type": "code",
   "execution_count": 11,
   "metadata": {},
   "outputs": [
    {
     "data": {
      "text/plain": [
       "(1016, 60)"
      ]
     },
     "execution_count": 11,
     "metadata": {},
     "output_type": "execute_result"
    }
   ],
   "source": [
    "x_train.shape"
   ]
  },
  {
   "cell_type": "code",
   "execution_count": 12,
   "metadata": {},
   "outputs": [],
   "source": [
    "x_train= np.reshape(x_train, (x_train.shape[0],x_train.shape[1], 1))"
   ]
  },
  {
   "cell_type": "code",
   "execution_count": 13,
   "metadata": {},
   "outputs": [
    {
     "data": {
      "text/plain": [
       "(1016, 60, 1)"
      ]
     },
     "execution_count": 13,
     "metadata": {},
     "output_type": "execute_result"
    }
   ],
   "source": [
    "x_train.shape"
   ]
  },
  {
   "cell_type": "code",
   "execution_count": 14,
   "metadata": {},
   "outputs": [],
   "source": [
    "from keras.models import Sequential\n",
    "from keras.layers import Dense, LSTM"
   ]
  },
  {
   "cell_type": "code",
   "execution_count": 15,
   "metadata": {},
   "outputs": [],
   "source": [
    "model = Sequential()\n",
    "model.add(LSTM(50, return_sequences=True, input_shape = (x_train.shape[1], 1)))#first layer we give it input shape no of time steps and features\n",
    "model.add(LSTM(50, return_sequences=False)) #we are not adding any layers\n",
    "model.add(Dense(25)) #dense layer having 25 neurons\n",
    "model.add(Dense(1)) #last layer with 1 neuron"
   ]
  },
  {
   "cell_type": "code",
   "execution_count": 16,
   "metadata": {},
   "outputs": [],
   "source": [
    "#compiling the model\n",
    "model.compile(optimizer='adam', loss='mean_squared_error')"
   ]
  },
  {
   "cell_type": "code",
   "execution_count": 17,
   "metadata": {},
   "outputs": [
    {
     "name": "stdout",
     "output_type": "stream",
     "text": [
      "Epoch 1/4\n",
      "16/16 [==============================] - 15s 118ms/step - loss: 0.0317\n",
      "Epoch 2/4\n",
      "16/16 [==============================] - 1s 92ms/step - loss: 0.0036\n",
      "Epoch 3/4\n",
      "16/16 [==============================] - 2s 104ms/step - loss: 0.0013\n",
      "Epoch 4/4\n",
      "16/16 [==============================] - 2s 107ms/step - loss: 5.4964e-04\n"
     ]
    },
    {
     "data": {
      "text/plain": [
       "<tensorflow.python.keras.callbacks.History at 0x2683d680160>"
      ]
     },
     "execution_count": 17,
     "metadata": {},
     "output_type": "execute_result"
    }
   ],
   "source": [
    "#train the model\n",
    "model.fit(x_train, y_train, batch_size=64, epochs=4)"
   ]
  },
  {
   "cell_type": "code",
   "execution_count": 18,
   "metadata": {},
   "outputs": [],
   "source": [
    "data_test = scale_data[training_data-60: , :]\n",
    "#create x_test, y_test\n",
    "x_test=[]\n",
    "y_test = ds[training_data: , : ]#values that we want our model to predict\n",
    "\n",
    "for i in range(60, len(data_test)):\n",
    "    x_test.append(data_test[i-60:i, 0])"
   ]
  },
  {
   "cell_type": "code",
   "execution_count": 19,
   "metadata": {},
   "outputs": [],
   "source": [
    "x_test= np.array(x_test)"
   ]
  },
  {
   "cell_type": "code",
   "execution_count": 20,
   "metadata": {},
   "outputs": [
    {
     "data": {
      "text/plain": [
       "(269, 60)"
      ]
     },
     "execution_count": 20,
     "metadata": {},
     "output_type": "execute_result"
    }
   ],
   "source": [
    "#shaping the data\n",
    "x_test.shape"
   ]
  },
  {
   "cell_type": "code",
   "execution_count": 21,
   "metadata": {},
   "outputs": [
    {
     "data": {
      "text/plain": [
       "(269, 60, 1)"
      ]
     },
     "execution_count": 21,
     "metadata": {},
     "output_type": "execute_result"
    }
   ],
   "source": [
    "x_test= np.reshape(x_test, (x_test.shape[0],x_test.shape[1], 1))\n",
    "x_test.shape"
   ]
  },
  {
   "cell_type": "code",
   "execution_count": 22,
   "metadata": {},
   "outputs": [],
   "source": [
    "#models predicting price values fpr x_test dataset\n",
    "predictions= model.predict(x_test) # we want this to be same as what we would get in y inverse transform\n",
    "predictions= scaler.inverse_transform(predictions)#like we are unscaling the values "
   ]
  },
  {
   "cell_type": "code",
   "execution_count": 23,
   "metadata": {},
   "outputs": [
    {
     "data": {
      "text/plain": [
       "8.400669253891728"
      ]
     },
     "execution_count": 23,
     "metadata": {},
     "output_type": "execute_result"
    }
   ],
   "source": [
    "#get the rmse its good measure of how accurate the model predicts the response the lower values indicate a good fit\n",
    "rmse = np.sqrt(np.mean(predictions - y_test) **2)\n",
    "rmse"
   ]
  },
  {
   "cell_type": "code",
   "execution_count": 24,
   "metadata": {},
   "outputs": [
    {
     "data": {
      "image/png": "[encoded data removed]",
      "text/plain": [
       "<Figure size 1152x576 with 1 Axes>"
      ]
     },
     "metadata": {
      "needs_background": "light"
     },
     "output_type": "display_data"
    }
   ],
   "source": [
    "train=df_close[:training_data]\n",
    "valid=df_close[training_data:]\n",
    "valid['Predict']=predictions\n",
    "plt.figure(figsize=(16,8))\n",
    "plt.title('model')\n",
    "plt.xlabel('Date', fontsize=18)\n",
    "plt.ylabel(\"Close Price in USD($)\", fontsize=18)\n",
    "plt.plot(train['Close'])\n",
    "plt.plot(valid[['Close','Predict']])\n",
    "plt.legend(['Train', 'Val','Predictions'], loc='lower right')\n",
    "plt.show()\n",
    "    "
   ]
  },
  {
   "cell_type": "code",
   "execution_count": 25,
   "metadata": {},
   "outputs": [
    {
     "name": "stdout",
     "output_type": "stream",
     "text": [
      "[[1700.213]]\n"
     ]
    }
   ],
   "source": [
    "#New Prediction to see how the model works\n",
    "\n",
    "import pandas_datareader as web\n",
    "google_quote=web.DataReader('GOOG', data_source='yahoo', start='2015-01-01', end='2020-12-12')\n",
    "new_df = google_quote.filter(['Close'])\n",
    "#getting the last 60 days and converting df to array\n",
    "sixty_days= new_df[-60:].values\n",
    "#scaling data to be between 0 and 1\n",
    "sixty_day_scaled=scaler.transform(sixty_days)\n",
    "#create empty lists\n",
    "X_test=[]\n",
    "X_test.append(sixty_day_scaled)\n",
    "X_test=np.array(X_test)\n",
    "#reshaping\n",
    "X_test=np.reshape(X_test,(X_test.shape[0], X_test.shape[1], 1))\n",
    "#pred\n",
    "pred_price=model.predict(X_test)\n",
    "#inverse\n",
    "pred_price=scaler.inverse_transform(pred_price)\n",
    "print(pred_price)"
   ]
  },
  {
   "cell_type": "code",
   "execution_count": 26,
   "metadata": {},
   "outputs": [
    {
     "name": "stdout",
     "output_type": "stream",
     "text": [
      "                   High   Low         Open       Close   Volume   Adj Close\n",
      "Date                                                                       \n",
      "2020-12-11  1784.449951  1760  1763.060059  1781.77002  1220700  1781.77002\n"
     ]
    }
   ],
   "source": [
    "google_quote2=web.DataReader('GOOG', data_source='yahoo', start='2020-12-11', end='2020-12-11')\n",
    "print(google_quote2)"
   ]
  }
 ],
 "metadata": {
  "kernelspec": {
   "display_name": "Python 3",
   "language": "python",
   "name": "python3"
  },
  "language_info": {
   "codemirror_mode": {
    "name": "ipython",
    "version": 3
   },
   "file_extension": ".py",
   "mimetype": "text/x-python",
   "name": "python",
   "nbconvert_exporter": "python",
   "pygments_lexer": "ipython3",
   "version": "3.8.5"
  }
 },
 "nbformat": 4,
 "nbformat_minor": 4
}
