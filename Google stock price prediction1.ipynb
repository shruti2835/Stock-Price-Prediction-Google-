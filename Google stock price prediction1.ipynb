{
 "cells": [
  {
   "cell_type": "code",
   "execution_count": 76,
   "metadata": {},
   "outputs": [],
   "source": [
    "import pandas as pd\n",
    "import numpy as np\n",
    "import matplotlib.pyplot as plt\n",
    "import math\n",
    "import warnings\n",
    "warnings.filterwarnings(\"ignore\")"
   ]
  },
  {
   "cell_type": "code",
   "execution_count": 3,
   "metadata": {},
   "outputs": [],
   "source": [
    "df=pd.read_csv(\"C:/Users/SHRUTI/OneDrive/Desktop/MLT DATASETS/GOOGL_data.csv\")\n",
    "pd.to_datetime(df['date'])"
   ]
  },
  {
   "cell_type": "code",
   "execution_count": 23,
   "metadata": {},
   "outputs": [
    {
     "data": {
      "text/html": [
       "<div>\n",
       "<style scoped>\n",
       "    .dataframe tbody tr th:only-of-type {\n",
       "        vertical-align: middle;\n",
       "    }\n",
       "\n",
       "    .dataframe tbody tr th {\n",
       "        vertical-align: top;\n",
       "    }\n",
       "\n",
       "    .dataframe thead th {\n",
       "        text-align: right;\n",
       "    }\n",
       "</style>\n",
       "<table border=\"1\" class=\"dataframe\">\n",
       "  <thead>\n",
       "    <tr style=\"text-align: right;\">\n",
       "      <th></th>\n",
       "      <th>date</th>\n",
       "      <th>open</th>\n",
       "      <th>high</th>\n",
       "      <th>low</th>\n",
       "      <th>close</th>\n",
       "      <th>volume</th>\n",
       "      <th>Name</th>\n",
       "    </tr>\n",
       "  </thead>\n",
       "  <tbody>\n",
       "    <tr>\n",
       "      <th>0</th>\n",
       "      <td>2013-02-08</td>\n",
       "      <td>390.4551</td>\n",
       "      <td>393.7283</td>\n",
       "      <td>390.1698</td>\n",
       "      <td>393.0777</td>\n",
       "      <td>6031199</td>\n",
       "      <td>GOOGL</td>\n",
       "    </tr>\n",
       "    <tr>\n",
       "      <th>1</th>\n",
       "      <td>2013-02-11</td>\n",
       "      <td>389.5892</td>\n",
       "      <td>391.8915</td>\n",
       "      <td>387.2619</td>\n",
       "      <td>391.6012</td>\n",
       "      <td>4330781</td>\n",
       "      <td>GOOGL</td>\n",
       "    </tr>\n",
       "    <tr>\n",
       "      <th>2</th>\n",
       "      <td>2013-02-12</td>\n",
       "      <td>391.2659</td>\n",
       "      <td>394.3440</td>\n",
       "      <td>390.0747</td>\n",
       "      <td>390.7403</td>\n",
       "      <td>3714176</td>\n",
       "      <td>GOOGL</td>\n",
       "    </tr>\n",
       "    <tr>\n",
       "      <th>3</th>\n",
       "      <td>2013-02-13</td>\n",
       "      <td>390.4551</td>\n",
       "      <td>393.0677</td>\n",
       "      <td>390.3750</td>\n",
       "      <td>391.8214</td>\n",
       "      <td>2393946</td>\n",
       "      <td>GOOGL</td>\n",
       "    </tr>\n",
       "    <tr>\n",
       "      <th>4</th>\n",
       "      <td>2013-02-14</td>\n",
       "      <td>390.2549</td>\n",
       "      <td>394.7644</td>\n",
       "      <td>389.2739</td>\n",
       "      <td>394.3039</td>\n",
       "      <td>3466971</td>\n",
       "      <td>GOOGL</td>\n",
       "    </tr>\n",
       "    <tr>\n",
       "      <th>...</th>\n",
       "      <td>...</td>\n",
       "      <td>...</td>\n",
       "      <td>...</td>\n",
       "      <td>...</td>\n",
       "      <td>...</td>\n",
       "      <td>...</td>\n",
       "      <td>...</td>\n",
       "    </tr>\n",
       "    <tr>\n",
       "      <th>1254</th>\n",
       "      <td>2018-02-01</td>\n",
       "      <td>1175.9900</td>\n",
       "      <td>1187.4500</td>\n",
       "      <td>1169.3600</td>\n",
       "      <td>1181.5900</td>\n",
       "      <td>3675709</td>\n",
       "      <td>GOOGL</td>\n",
       "    </tr>\n",
       "    <tr>\n",
       "      <th>1255</th>\n",
       "      <td>2018-02-02</td>\n",
       "      <td>1127.4200</td>\n",
       "      <td>1131.3000</td>\n",
       "      <td>1111.1700</td>\n",
       "      <td>1119.2000</td>\n",
       "      <td>5892122</td>\n",
       "      <td>GOOGL</td>\n",
       "    </tr>\n",
       "    <tr>\n",
       "      <th>1256</th>\n",
       "      <td>2018-02-05</td>\n",
       "      <td>1100.6100</td>\n",
       "      <td>1114.9900</td>\n",
       "      <td>1056.7400</td>\n",
       "      <td>1062.3900</td>\n",
       "      <td>4177469</td>\n",
       "      <td>GOOGL</td>\n",
       "    </tr>\n",
       "    <tr>\n",
       "      <th>1257</th>\n",
       "      <td>2018-02-06</td>\n",
       "      <td>1033.9800</td>\n",
       "      <td>1087.3800</td>\n",
       "      <td>1030.0100</td>\n",
       "      <td>1084.4300</td>\n",
       "      <td>3831524</td>\n",
       "      <td>GOOGL</td>\n",
       "    </tr>\n",
       "    <tr>\n",
       "      <th>1258</th>\n",
       "      <td>2018-02-07</td>\n",
       "      <td>1084.9700</td>\n",
       "      <td>1086.5300</td>\n",
       "      <td>1054.6200</td>\n",
       "      <td>1055.4100</td>\n",
       "      <td>2597094</td>\n",
       "      <td>GOOGL</td>\n",
       "    </tr>\n",
       "  </tbody>\n",
       "</table>\n",
       "<p>1259 rows × 7 columns</p>\n",
       "</div>"
      ],
      "text/plain": [
       "            date       open       high        low      close   volume   Name\n",
       "0     2013-02-08   390.4551   393.7283   390.1698   393.0777  6031199  GOOGL\n",
       "1     2013-02-11   389.5892   391.8915   387.2619   391.6012  4330781  GOOGL\n",
       "2     2013-02-12   391.2659   394.3440   390.0747   390.7403  3714176  GOOGL\n",
       "3     2013-02-13   390.4551   393.0677   390.3750   391.8214  2393946  GOOGL\n",
       "4     2013-02-14   390.2549   394.7644   389.2739   394.3039  3466971  GOOGL\n",
       "...          ...        ...        ...        ...        ...      ...    ...\n",
       "1254  2018-02-01  1175.9900  1187.4500  1169.3600  1181.5900  3675709  GOOGL\n",
       "1255  2018-02-02  1127.4200  1131.3000  1111.1700  1119.2000  5892122  GOOGL\n",
       "1256  2018-02-05  1100.6100  1114.9900  1056.7400  1062.3900  4177469  GOOGL\n",
       "1257  2018-02-06  1033.9800  1087.3800  1030.0100  1084.4300  3831524  GOOGL\n",
       "1258  2018-02-07  1084.9700  1086.5300  1054.6200  1055.4100  2597094  GOOGL\n",
       "\n",
       "[1259 rows x 7 columns]"
      ]
     },
     "execution_count": 23,
     "metadata": {},
     "output_type": "execute_result"
    }
   ],
   "source": [
    "df \n",
    "\n",
    "#this dataset consists of values from the year 2013-2018"
   ]
  },
  {
   "cell_type": "code",
   "execution_count": 15,
   "metadata": {},
   "outputs": [
    {
     "name": "stdout",
     "output_type": "stream",
     "text": [
      "<class 'pandas.core.frame.DataFrame'>\n",
      "RangeIndex: 1259 entries, 0 to 1258\n",
      "Data columns (total 7 columns):\n",
      " #   Column  Non-Null Count  Dtype  \n",
      "---  ------  --------------  -----  \n",
      " 0   date    1259 non-null   object \n",
      " 1   open    1259 non-null   float64\n",
      " 2   high    1259 non-null   float64\n",
      " 3   low     1259 non-null   float64\n",
      " 4   close   1259 non-null   float64\n",
      " 5   volume  1259 non-null   int64  \n",
      " 6   Name    1259 non-null   object \n",
      "dtypes: float64(4), int64(1), object(2)\n",
      "memory usage: 69.0+ KB\n"
     ]
    },
    {
     "data": {
      "text/plain": [
       "(1259, 7)"
      ]
     },
     "execution_count": 15,
     "metadata": {},
     "output_type": "execute_result"
    }
   ],
   "source": [
    "#getting no of rows and columns\n",
    "\n",
    "df.shape\n"
   ]
  },
  {
   "cell_type": "code",
   "execution_count": 12,
   "metadata": {},
   "outputs": [
    {
     "name": "stdout",
     "output_type": "stream",
     "text": [
      "<class 'pandas.core.frame.DataFrame'>\n",
      "RangeIndex: 1259 entries, 0 to 1258\n",
      "Data columns (total 7 columns):\n",
      " #   Column  Non-Null Count  Dtype  \n",
      "---  ------  --------------  -----  \n",
      " 0   date    1259 non-null   object \n",
      " 1   open    1259 non-null   float64\n",
      " 2   high    1259 non-null   float64\n",
      " 3   low     1259 non-null   float64\n",
      " 4   close   1259 non-null   float64\n",
      " 5   volume  1259 non-null   int64  \n",
      " 6   Name    1259 non-null   object \n",
      "dtypes: float64(4), int64(1), object(2)\n",
      "memory usage: 69.0+ KB\n"
     ]
    }
   ],
   "source": [
    "df.info()"
   ]
  },
  {
   "cell_type": "code",
   "execution_count": 22,
   "metadata": {},
   "outputs": [
    {
     "data": {
      "image/png": "[encoded data removed]",
      "text/plain": [
       "<Figure size 1080x720 with 1 Axes>"
      ]
     },
     "metadata": {
      "needs_background": "light"
     },
     "output_type": "display_data"
    }
   ],
   "source": [
    "#closing price history\n",
    "\n",
    "plt.figure(figsize=(15,10))\n",
    "plt.title(\"Closing Price History of Google Stock\")\n",
    "x=pd.to_datetime(df['date'])\n",
    "y=df['close']\n",
    "plt.plot(x,y, color='purple')\n",
    "plt.xlabel(\"Year\", fontsize=18)\n",
    "plt.ylabel(\"Close Price in USD($)\", fontsize=18)\n",
    "plt.show()"
   ]
  },
  {
   "cell_type": "code",
   "execution_count": 24,
   "metadata": {},
   "outputs": [],
   "source": [
    "#Googles stock price has been increasing over the years\n",
    "#Anyone who would have bought the stock between 2013- 2014 and 2015 and 2016 and sold it in 2017 and 2018 it would have been \n",
    "#profitable"
   ]
  },
  {
   "cell_type": "code",
   "execution_count": 35,
   "metadata": {},
   "outputs": [
    {
     "data": {
      "text/plain": [
       "1008"
      ]
     },
     "execution_count": 35,
     "metadata": {},
     "output_type": "execute_result"
    }
   ],
   "source": [
    "#Creating a new df with only close \n",
    "df_close= df.filter(['close'])\n",
    "#converting the data to numpy array\n",
    "ds= df_close.values\n",
    "training_data= math.ceil (len(ds) * .8) #computing the no of rows we are using 80% and then rounding of the values \n",
    "training_data"
   ]
  },
  {
   "cell_type": "code",
   "execution_count": 36,
   "metadata": {},
   "outputs": [
    {
     "data": {
      "text/plain": [
       "array([[ 393.0777],\n",
       "       [ 391.6012],\n",
       "       [ 390.7403],\n",
       "       ...,\n",
       "       [1062.39  ],\n",
       "       [1084.43  ],\n",
       "       [1055.41  ]])"
      ]
     },
     "execution_count": 36,
     "metadata": {},
     "output_type": "execute_result"
    }
   ],
   "source": [
    "ds"
   ]
  },
  {
   "cell_type": "code",
   "execution_count": 39,
   "metadata": {},
   "outputs": [
    {
     "data": {
      "text/plain": [
       "array([[0.01210825],\n",
       "       [0.01027231],\n",
       "       [0.00920184],\n",
       "       ...,\n",
       "       [0.84435851],\n",
       "       [0.87176395],\n",
       "       [0.83567929]])"
      ]
     },
     "execution_count": 39,
     "metadata": {},
     "output_type": "execute_result"
    }
   ],
   "source": [
    "from sklearn.preprocessing import MinMaxScaler \n",
    "scaler = MinMaxScaler(feature_range=(0,1))\n",
    "scale_data = scaler.fit_transform(ds)\n",
    "scale_data"
   ]
  },
  {
   "cell_type": "code",
   "execution_count": 43,
   "metadata": {},
   "outputs": [
    {
     "name": "stdout",
     "output_type": "stream",
     "text": [
      "[array([0.01210825, 0.01027231, 0.00920184, 0.01054612, 0.01363296,\n",
      "       0.01678819, 0.02547611, 0.0165206 , 0.01843128, 0.02103268,\n",
      "       0.0154689 , 0.01507063, 0.0210762 , 0.02195991, 0.0250654 ,\n",
      "       0.03459601, 0.04523799, 0.04074221, 0.04149897, 0.04082938,\n",
      "       0.04288304, 0.03839596, 0.03696464, 0.03461839, 0.0301139 ,\n",
      "       0.02606115, 0.02825806, 0.03036657, 0.02822064, 0.0276295 ,\n",
      "       0.02721245, 0.02894258, 0.02286849, 0.01759606, 0.02195369,\n",
      "       0.02932842, 0.02507287, 0.01814491, 0.01066437, 0.00556116,\n",
      "       0.00730372, 0.01510171, 0.0152324 , 0.01502077, 0.00996742,\n",
      "       0.01708699, 0.01035948, 0.        , 0.02113215, 0.0212841 ,\n",
      "       0.02612954, 0.02958606, 0.02687635, 0.02209681, 0.0330749 ,\n",
      "       0.03650407, 0.03392753, 0.03964065, 0.04966663, 0.05951829])]\n",
      "[0.05682972321006696]\n",
      "\n",
      "[array([0.01210825, 0.01027231, 0.00920184, 0.01054612, 0.01363296,\n",
      "       0.01678819, 0.02547611, 0.0165206 , 0.01843128, 0.02103268,\n",
      "       0.0154689 , 0.01507063, 0.0210762 , 0.02195991, 0.0250654 ,\n",
      "       0.03459601, 0.04523799, 0.04074221, 0.04149897, 0.04082938,\n",
      "       0.04288304, 0.03839596, 0.03696464, 0.03461839, 0.0301139 ,\n",
      "       0.02606115, 0.02825806, 0.03036657, 0.02822064, 0.0276295 ,\n",
      "       0.02721245, 0.02894258, 0.02286849, 0.01759606, 0.02195369,\n",
      "       0.02932842, 0.02507287, 0.01814491, 0.01066437, 0.00556116,\n",
      "       0.00730372, 0.01510171, 0.0152324 , 0.01502077, 0.00996742,\n",
      "       0.01708699, 0.01035948, 0.        , 0.02113215, 0.0212841 ,\n",
      "       0.02612954, 0.02958606, 0.02687635, 0.02209681, 0.0330749 ,\n",
      "       0.03650407, 0.03392753, 0.03964065, 0.04966663, 0.05951829]), array([0.01027231, 0.00920184, 0.01054612, 0.01363296, 0.01678819,\n",
      "       0.02547611, 0.0165206 , 0.01843128, 0.02103268, 0.0154689 ,\n",
      "       0.01507063, 0.0210762 , 0.02195991, 0.0250654 , 0.03459601,\n",
      "       0.04523799, 0.04074221, 0.04149897, 0.04082938, 0.04288304,\n",
      "       0.03839596, 0.03696464, 0.03461839, 0.0301139 , 0.02606115,\n",
      "       0.02825806, 0.03036657, 0.02822064, 0.0276295 , 0.02721245,\n",
      "       0.02894258, 0.02286849, 0.01759606, 0.02195369, 0.02932842,\n",
      "       0.02507287, 0.01814491, 0.01066437, 0.00556116, 0.00730372,\n",
      "       0.01510171, 0.0152324 , 0.01502077, 0.00996742, 0.01708699,\n",
      "       0.01035948, 0.        , 0.02113215, 0.0212841 , 0.02612954,\n",
      "       0.02958606, 0.02687635, 0.02209681, 0.0330749 , 0.03650407,\n",
      "       0.03392753, 0.03964065, 0.04966663, 0.05951829, 0.05682972])]\n",
      "[0.05682972321006696, 0.06703613439108702]\n",
      "\n"
     ]
    }
   ],
   "source": [
    "#creating the training dataset \n",
    "#create scaled training dataset\n",
    "data_train=scale_data[0:training_data, :]\n",
    "#splitting the data into x_train y train \n",
    "x_train= []\n",
    "y_train= []\n",
    "\n",
    "for i in range(60, len(data_train)):\n",
    "    x_train.append(data_train[i-60:i, 0])\n",
    "    y_train.append(data_train[i, 0])\n",
    "    if i<=61:\n",
    "        print(x_train)\n",
    "        print(y_train)\n",
    "        print()"
   ]
  },
  {
   "cell_type": "code",
   "execution_count": 44,
   "metadata": {},
   "outputs": [],
   "source": [
    "#passthroughs\n"
   ]
  },
  {
   "cell_type": "code",
   "execution_count": 45,
   "metadata": {},
   "outputs": [],
   "source": [
    "#converting x_train and y_train to np arrays\n",
    "x_train, y_train= np.array(x_train), np.array(y_train)"
   ]
  },
  {
   "cell_type": "code",
   "execution_count": 46,
   "metadata": {},
   "outputs": [
    {
     "data": {
      "text/plain": [
       "(948, 60)"
      ]
     },
     "execution_count": 46,
     "metadata": {},
     "output_type": "execute_result"
    }
   ],
   "source": [
    "#reshaping the xtrain data\n",
    "#a lstm model needs the input data to be three dimensional in the form of no of samples, timesteps and features\n",
    "#here we have only 2d data no of rows and columns see below\n",
    "x_train.shape\n"
   ]
  },
  {
   "cell_type": "code",
   "execution_count": 49,
   "metadata": {},
   "outputs": [],
   "source": [
    "x_train= np.reshape(x_train, (x_train.shape[0],x_train.shape[1], 1)) # this is see above rows=948, 60, no features only 1 ie close\n",
    "                  "
   ]
  },
  {
   "cell_type": "code",
   "execution_count": 50,
   "metadata": {},
   "outputs": [
    {
     "data": {
      "text/plain": [
       "(948, 60, 1)"
      ]
     },
     "execution_count": 50,
     "metadata": {},
     "output_type": "execute_result"
    }
   ],
   "source": [
    "x_train.shape"
   ]
  },
  {
   "cell_type": "code",
   "execution_count": 52,
   "metadata": {},
   "outputs": [],
   "source": [
    "from keras.models import Sequential\n",
    "from keras.layers import Dense, LSTM"
   ]
  },
  {
   "cell_type": "code",
   "execution_count": 53,
   "metadata": {},
   "outputs": [],
   "source": [
    "#building an lstm model\n",
    "model = Sequential()\n",
    "model.add(LSTM(50, return_sequences=True, input_shape = (x_train.shape[1], 1)))#first layer we give it input shape no of time steps and features\n",
    "model.add(LSTM(50, return_sequences=False)) #we are not adding any layers\n",
    "model.add(Dense(25)) #dense layer having 25 neurons\n",
    "model.add(Dense(1)) #last layer with 1 neuron"
   ]
  },
  {
   "cell_type": "code",
   "execution_count": 56,
   "metadata": {},
   "outputs": [],
   "source": [
    "#compiling the model\n",
    "model.compile(optimizer='adam', loss='mean_squared_error')"
   ]
  },
  {
   "cell_type": "code",
   "execution_count": 68,
   "metadata": {},
   "outputs": [
    {
     "name": "stdout",
     "output_type": "stream",
     "text": [
      "Epoch 1/4\n",
      "30/30 [==============================] - 8s 42ms/step - loss: 7.4894e-04 - accuracy: 0.0000e+00\n",
      "Epoch 2/4\n",
      "30/30 [==============================] - 1s 41ms/step - loss: 4.6008e-04 - accuracy: 0.0000e+00\n",
      "Epoch 3/4\n",
      "30/30 [==============================] - 1s 42ms/step - loss: 4.3857e-04 - accuracy: 0.0000e+00\n",
      "Epoch 4/4\n",
      "30/30 [==============================] - 1s 43ms/step - loss: 4.2728e-04 - accuracy: 0.0000e+00\n"
     ]
    },
    {
     "data": {
      "text/plain": [
       "<tensorflow.python.keras.callbacks.History at 0x20c8b683160>"
      ]
     },
     "execution_count": 68,
     "metadata": {},
     "output_type": "execute_result"
    }
   ],
   "source": [
    "#train the model\n",
    "model.fit(x_train, y_train, batch_size=32, epochs=4)"
   ]
  },
  {
   "cell_type": "code",
   "execution_count": 60,
   "metadata": {},
   "outputs": [],
   "source": [
    "#creating testing dataset\n",
    "#creating new array with scaled values from 948 to 1259\n",
    "data_test = scale_data[training_data-60: , :]\n",
    "#create x_test, y_test\n",
    "x_test=[]\n",
    "y_test = ds[training_data: , : ]#values that we want our model to predict\n",
    "\n",
    "for i in range(60, len(data_test)):\n",
    "    x_test.append(data_test[i-60:i, 0])\n",
    "    "
   ]
  },
  {
   "cell_type": "code",
   "execution_count": 61,
   "metadata": {},
   "outputs": [],
   "source": [
    "#converting the data to numpy array\n",
    "x_test= np.array(x_test)"
   ]
  },
  {
   "cell_type": "code",
   "execution_count": 62,
   "metadata": {},
   "outputs": [
    {
     "data": {
      "text/plain": [
       "(251, 60)"
      ]
     },
     "execution_count": 62,
     "metadata": {},
     "output_type": "execute_result"
    }
   ],
   "source": [
    "#shaping the data\n",
    "x_test.shape"
   ]
  },
  {
   "cell_type": "code",
   "execution_count": 63,
   "metadata": {},
   "outputs": [
    {
     "data": {
      "text/plain": [
       "(251, 60, 1)"
      ]
     },
     "execution_count": 63,
     "metadata": {},
     "output_type": "execute_result"
    }
   ],
   "source": [
    "x_test= np.reshape(x_test, (x_test.shape[0],x_test.shape[1], 1))\n",
    "x_test.shape"
   ]
  },
  {
   "cell_type": "code",
   "execution_count": 65,
   "metadata": {},
   "outputs": [],
   "source": [
    "#models predicting price values fpr x_test dataset\n",
    "predictions= model.predict(x_test) # we want this to be same as what we would get in y inverse transform\n",
    "predictions= scaler.inverse_transform(predictions)#like we are unscaling the values "
   ]
  },
  {
   "cell_type": "code",
   "execution_count": 72,
   "metadata": {},
   "outputs": [
    {
     "data": {
      "text/plain": [
       "16.84730149713645"
      ]
     },
     "execution_count": 72,
     "metadata": {},
     "output_type": "execute_result"
    }
   ],
   "source": [
    "#get the rmse its good measure of how accurate the model predicts the response the lower values indicate a good fit\n",
    "rmse = np.sqrt(np.mean(predictions - y_test) **2)\n",
    "rmse"
   ]
  },
  {
   "cell_type": "code",
   "execution_count": 80,
   "metadata": {},
   "outputs": [
    {
     "data": {
      "image/png": "[encoded data removed]",
      "text/plain": [
       "<Figure size 1152x576 with 1 Axes>"
      ]
     },
     "metadata": {
      "needs_background": "light"
     },
     "output_type": "display_data"
    }
   ],
   "source": [
    "train=df_close[:training_data]\n",
    "valid=df_close[training_data:]\n",
    "valid['Predict']=predictions\n",
    "plt.figure(figsize=(16,8))\n",
    "plt.title('model')\n",
    "plt.xlabel('Date', fontsize=18)\n",
    "plt.ylabel(\"Close Price in USD($)\", fontsize=18)\n",
    "plt.plot(train['close'])\n",
    "plt.plot(valid[['close','Predict']])\n",
    "plt.legend(['Train', 'Val','Predictions'], loc='lower right')\n",
    "plt.show()\n",
    "    "
   ]
  },
  {
   "cell_type": "code",
   "execution_count": 83,
   "metadata": {},
   "outputs": [],
   "source": [
    "#the model is predicting pretty decent values not very close but not too far"
   ]
  },
  {
   "cell_type": "code",
   "execution_count": null,
   "metadata": {},
   "outputs": [],
   "source": [
    "#trying to get a quote from the yahoo website"
   ]
  },
  {
   "cell_type": "code",
   "execution_count": 88,
   "metadata": {},
   "outputs": [
    {
     "name": "stdout",
     "output_type": "stream",
     "text": [
      "[[1675.2368]]\n"
     ]
    }
   ],
   "source": [
    "import pandas_datareader as web\n",
    "google_quote=web.DataReader('GOOG', data_source='yahoo', start='2015-01-01', end='2020-12-12')\n",
    "new_df = google_quote.filter(['Close'])\n",
    "#getting the last 60 days and converting df to array\n",
    "sixty_days= new_df[-60:].values\n",
    "#scaling data to be between 0 and 1\n",
    "sixty_day_scaled=scaler.transform(sixty_days)\n",
    "#create empty lists\n",
    "X_test=[]\n",
    "X_test.append(sixty_day_scaled)\n",
    "X_test=np.array(X_test)\n",
    "#reshaping\n",
    "X_test=np.reshape(X_test,(X_test.shape[0], X_test.shape[1], 1))\n",
    "#pred\n",
    "pred_price=model.predict(X_test)\n",
    "#inverse\n",
    "pred_price=scaler.inverse_transform(pred_price)\n",
    "print(pred_price)"
   ]
  },
  {
   "cell_type": "code",
   "execution_count": 93,
   "metadata": {},
   "outputs": [
    {
     "data": {
      "text/html": [
       "<div>\n",
       "<style scoped>\n",
       "    .dataframe tbody tr th:only-of-type {\n",
       "        vertical-align: middle;\n",
       "    }\n",
       "\n",
       "    .dataframe tbody tr th {\n",
       "        vertical-align: top;\n",
       "    }\n",
       "\n",
       "    .dataframe thead th {\n",
       "        text-align: right;\n",
       "    }\n",
       "</style>\n",
       "<table border=\"1\" class=\"dataframe\">\n",
       "  <thead>\n",
       "    <tr style=\"text-align: right;\">\n",
       "      <th></th>\n",
       "      <th>High</th>\n",
       "      <th>Low</th>\n",
       "      <th>Open</th>\n",
       "      <th>Close</th>\n",
       "      <th>Volume</th>\n",
       "      <th>Adj Close</th>\n",
       "    </tr>\n",
       "    <tr>\n",
       "      <th>Date</th>\n",
       "      <th></th>\n",
       "      <th></th>\n",
       "      <th></th>\n",
       "      <th></th>\n",
       "      <th></th>\n",
       "      <th></th>\n",
       "    </tr>\n",
       "  </thead>\n",
       "  <tbody>\n",
       "    <tr>\n",
       "      <th>2015-01-02</th>\n",
       "      <td>529.815369</td>\n",
       "      <td>522.665039</td>\n",
       "      <td>527.561584</td>\n",
       "      <td>523.373108</td>\n",
       "      <td>1447563.0</td>\n",
       "      <td>523.373108</td>\n",
       "    </tr>\n",
       "    <tr>\n",
       "      <th>2015-01-05</th>\n",
       "      <td>522.894409</td>\n",
       "      <td>511.655243</td>\n",
       "      <td>521.827332</td>\n",
       "      <td>512.463013</td>\n",
       "      <td>2059840.0</td>\n",
       "      <td>512.463013</td>\n",
       "    </tr>\n",
       "    <tr>\n",
       "      <th>2015-01-06</th>\n",
       "      <td>514.761719</td>\n",
       "      <td>499.678131</td>\n",
       "      <td>513.589966</td>\n",
       "      <td>500.585632</td>\n",
       "      <td>2899940.0</td>\n",
       "      <td>500.585632</td>\n",
       "    </tr>\n",
       "    <tr>\n",
       "      <th>2015-01-07</th>\n",
       "      <td>505.855164</td>\n",
       "      <td>498.281952</td>\n",
       "      <td>505.611847</td>\n",
       "      <td>499.727997</td>\n",
       "      <td>2065054.0</td>\n",
       "      <td>499.727997</td>\n",
       "    </tr>\n",
       "    <tr>\n",
       "      <th>2015-01-08</th>\n",
       "      <td>502.101471</td>\n",
       "      <td>489.655640</td>\n",
       "      <td>496.626526</td>\n",
       "      <td>501.303680</td>\n",
       "      <td>3353582.0</td>\n",
       "      <td>501.303680</td>\n",
       "    </tr>\n",
       "    <tr>\n",
       "      <th>...</th>\n",
       "      <td>...</td>\n",
       "      <td>...</td>\n",
       "      <td>...</td>\n",
       "      <td>...</td>\n",
       "      <td>...</td>\n",
       "      <td>...</td>\n",
       "    </tr>\n",
       "    <tr>\n",
       "      <th>2020-12-07</th>\n",
       "      <td>1832.369995</td>\n",
       "      <td>1805.780029</td>\n",
       "      <td>1819.000000</td>\n",
       "      <td>1819.479980</td>\n",
       "      <td>1320900.0</td>\n",
       "      <td>1819.479980</td>\n",
       "    </tr>\n",
       "    <tr>\n",
       "      <th>2020-12-08</th>\n",
       "      <td>1821.900024</td>\n",
       "      <td>1796.204956</td>\n",
       "      <td>1810.099976</td>\n",
       "      <td>1818.550049</td>\n",
       "      <td>1096300.0</td>\n",
       "      <td>1818.550049</td>\n",
       "    </tr>\n",
       "    <tr>\n",
       "      <th>2020-12-09</th>\n",
       "      <td>1834.270020</td>\n",
       "      <td>1767.810059</td>\n",
       "      <td>1812.010010</td>\n",
       "      <td>1784.130005</td>\n",
       "      <td>1507600.0</td>\n",
       "      <td>1784.130005</td>\n",
       "    </tr>\n",
       "    <tr>\n",
       "      <th>2020-12-10</th>\n",
       "      <td>1781.310059</td>\n",
       "      <td>1740.319946</td>\n",
       "      <td>1769.800049</td>\n",
       "      <td>1775.329956</td>\n",
       "      <td>1362800.0</td>\n",
       "      <td>1775.329956</td>\n",
       "    </tr>\n",
       "    <tr>\n",
       "      <th>2020-12-11</th>\n",
       "      <td>1784.449951</td>\n",
       "      <td>1760.000000</td>\n",
       "      <td>1763.060059</td>\n",
       "      <td>1781.770020</td>\n",
       "      <td>1220700.0</td>\n",
       "      <td>1781.770020</td>\n",
       "    </tr>\n",
       "  </tbody>\n",
       "</table>\n",
       "<p>1498 rows × 6 columns</p>\n",
       "</div>"
      ],
      "text/plain": [
       "                   High          Low         Open        Close     Volume  \\\n",
       "Date                                                                        \n",
       "2015-01-02   529.815369   522.665039   527.561584   523.373108  1447563.0   \n",
       "2015-01-05   522.894409   511.655243   521.827332   512.463013  2059840.0   \n",
       "2015-01-06   514.761719   499.678131   513.589966   500.585632  2899940.0   \n",
       "2015-01-07   505.855164   498.281952   505.611847   499.727997  2065054.0   \n",
       "2015-01-08   502.101471   489.655640   496.626526   501.303680  3353582.0   \n",
       "...                 ...          ...          ...          ...        ...   \n",
       "2020-12-07  1832.369995  1805.780029  1819.000000  1819.479980  1320900.0   \n",
       "2020-12-08  1821.900024  1796.204956  1810.099976  1818.550049  1096300.0   \n",
       "2020-12-09  1834.270020  1767.810059  1812.010010  1784.130005  1507600.0   \n",
       "2020-12-10  1781.310059  1740.319946  1769.800049  1775.329956  1362800.0   \n",
       "2020-12-11  1784.449951  1760.000000  1763.060059  1781.770020  1220700.0   \n",
       "\n",
       "              Adj Close  \n",
       "Date                     \n",
       "2015-01-02   523.373108  \n",
       "2015-01-05   512.463013  \n",
       "2015-01-06   500.585632  \n",
       "2015-01-07   499.727997  \n",
       "2015-01-08   501.303680  \n",
       "...                 ...  \n",
       "2020-12-07  1819.479980  \n",
       "2020-12-08  1818.550049  \n",
       "2020-12-09  1784.130005  \n",
       "2020-12-10  1775.329956  \n",
       "2020-12-11  1781.770020  \n",
       "\n",
       "[1498 rows x 6 columns]"
      ]
     },
     "execution_count": 93,
     "metadata": {},
     "output_type": "execute_result"
    }
   ],
   "source": [
    "google_quote"
   ]
  },
  {
   "cell_type": "code",
   "execution_count": 94,
   "metadata": {},
   "outputs": [
    {
     "name": "stdout",
     "output_type": "stream",
     "text": [
      "                   High   Low         Open       Close   Volume   Adj Close\n",
      "Date                                                                       \n",
      "2020-12-11  1784.449951  1760  1763.060059  1781.77002  1220700  1781.77002\n"
     ]
    }
   ],
   "source": [
    "google_quote2=web.DataReader('GOOG', data_source='yahoo', start='2020-12-11', end='2020-12-11')\n",
    "print(google_quote2)"
   ]
  },
  {
   "cell_type": "code",
   "execution_count": null,
   "metadata": {},
   "outputs": [],
   "source": []
  }
 ],
 "metadata": {
  "kernelspec": {
   "display_name": "Python 3",
   "language": "python",
   "name": "python3"
  },
  "language_info": {
   "codemirror_mode": {
    "name": "ipython",
    "version": 3
   },
   "file_extension": ".py",
   "mimetype": "text/x-python",
   "name": "python",
   "nbconvert_exporter": "python",
   "pygments_lexer": "ipython3",
   "version": "3.8.5"
  }
 },
 "nbformat": 4,
 "nbformat_minor": 4
}
